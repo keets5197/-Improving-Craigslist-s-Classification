{
 "cells": [
  {
   "cell_type": "markdown",
   "id": "e57d6d2c",
   "metadata": {},
   "source": [
    "### Import Libraries"
   ]
  },
  {
   "cell_type": "code",
   "execution_count": 2,
   "id": "3f5da1d3",
   "metadata": {},
   "outputs": [],
   "source": [
    "import pandas as pd\n",
    "import numpy as np\n",
    "\n",
    "import requests\n",
    "from bs4 import BeautifulSoup\n",
    "\n",
    "import time\n",
    "import re\n",
    "from tqdm import tqdm\n",
    "\n",
    "\n",
    "from selenium import webdriver\n",
    "from selenium.webdriver.common.by import By\n",
    "from selenium.webdriver.common.keys import Keys\n",
    "from selenium.webdriver.support.ui import WebDriverWait\n",
    "from selenium.webdriver.support import expected_conditions as EC"
   ]
  },
  {
   "cell_type": "code",
   "execution_count": 165,
   "id": "0e159091",
   "metadata": {},
   "outputs": [],
   "source": [
    "import re\n",
    "import time\n",
    "from selenium.webdriver.firefox.options import Options\n",
    "product_name=[]\n",
    "url_link=[]\n",
    "# Optional: Set the path to the GeckoDriver if it's not in your PATH\n",
    "gecko_path = 'geckodriver'  # Replace with the path to your geckodriver\n",
    "\n",
    "# Set up Firefox options (optional)\n",
    "options = Options()\n",
    "options.headless = False  # Run browser in headless mode (no GUI)\n",
    "\n",
    "# Set up the driver\n",
    "driver = webdriver.Firefox(executable_path=gecko_path, options=options)\n",
    "\n",
    "# Example: Open a webpage\n",
    "driver.get(\"https://www.amazon.com/Best-Sellers-Electronics-Laptop-Computers/zgbs/electronics/565108?rw_useCurrentProtocol=1&ref_=amb_link_BpW_pJfGS-SH8sCy2LOykw_11\")\n",
    "html = driver.page_source\n",
    "soup = BeautifulSoup(html)\n",
    "time.sleep(2)\n",
    "scripts=soup.find_all('div',attrs={'id':'gridItemRoot'})\n",
    "for i in scripts:\n",
    "    try:\n",
    "        data=str(i)\n",
    "        start=data[data.find(\"data-a-dynamic-image=\\'\")+24:]\n",
    "        part=start[:start.find('jpg')+3]\n",
    "        prod_name = i.find_all('div',attrs={'class':'_cDEzb_p13n-sc-css-line-clamp-3_g3dy1'})\n",
    "        product_name.append(prod_name[0])\n",
    "        url_link.append(part)\n",
    "    except:\n",
    "        continue\n",
    "    product_name.append(prod_name[0])\n",
    "    url_link.append(part)\n"
   ]
  },
  {
   "cell_type": "code",
   "execution_count": 19,
   "id": "07d910f7",
   "metadata": {},
   "outputs": [],
   "source": [
    "url_list=['https://www.amazon.com/Best-Sellers-Electronics-Laptop-Computers/zgbs/electronics/565108/ref=zg_bs_pg_1_electronics?_encoding=UTF8&pg=1','https://www.amazon.com/Best-Sellers-Electronics-Desktop-Computers/zgbs/electronics/565098?rw_useCurrentProtocol=1&ref_=amb_link_BpW_pJfGS-SH8sCy2LOykw_12','https://www.amazon.com/Best-Sellers-Electronics-Computer-Monitors/zgbs/electronics/1292115011?rw_useCurrentProtocol=1&ref_=amb_link_BpW_pJfGS-SH8sCy2LOykw_14','https://www.amazon.com/Best-Sellers-Electronics-Computer-Monitors/zgbs/electronics/1292115011?rw_useCurrentProtocol=1&ref_=amb_link_BpW_pJfGS-SH8sCy2LOykw_14','https://www.amazon.com/Best-Sellers-Electronics-Computer-Tablets/zgbs/electronics/1232597011?rw_useCurrentProtocol=1&ref_=amb_link_BpW_pJfGS-SH8sCy2LOykw_15','https://www.amazon.com/Best-Sellers-Electronics-Laptop-Accessories/zgbs/electronics/3011391011?rw_useCurrentProtocol=1&ref_=amb_link_BpW_pJfGS-SH8sCy2LOykw_16','https://www.amazon.com/Best-Sellers-Electronics-Computer-Networking/zgbs/electronics/172504?rw_useCurrentProtocol=1&ref_=amb_link_BpW_pJfGS-SH8sCy2LOykw_17','https://www.amazon.com/Best-Sellers-Computers-Accessories-Computer-Printers/zgbs/pc/172635/ref=zg_bs_nav_pc_1']"
   ]
  },
  {
   "cell_type": "code",
   "execution_count": 9,
   "id": "14d287dc",
   "metadata": {},
   "outputs": [
    {
     "name": "stderr",
     "output_type": "stream",
     "text": [
      "C:\\Users\\devar\\AppData\\Local\\Temp/ipykernel_20304/3399921573.py:88: DeprecationWarning: find_element_by_* commands are deprecated. Please use find_element() instead\n",
      "  driver.find_element_by_class_name('a-last').click()\n"
     ]
    }
   ],
   "source": [
    "import re\n",
    "import time\n",
    "import random\n",
    "import csv\n",
    "from selenium import webdriver\n",
    "from selenium.webdriver.firefox.options import Options\n",
    "from selenium.webdriver.common.action_chains import ActionChains\n",
    "from bs4 import BeautifulSoup\n",
    "from fake_useragent import UserAgent\n",
    "\n",
    "product_name = []\n",
    "url_link = []\n",
    "\n",
    "# Generate a random user agent\n",
    "ua = UserAgent()\n",
    "user_agent = ua.random\n",
    "\n",
    "# Set up Firefox options\n",
    "options = Options()\n",
    "options.headless = False\n",
    "options.add_argument(f\"user-agent={user_agent}\")\n",
    "\n",
    "# Optional: Set the path to the GeckoDriver if it's not in your PATH\n",
    "gecko_path = 'geckodriver'  # Replace with the path to your geckodriver\n",
    "\n",
    "# Set up the driver\n",
    "driver = webdriver.Firefox(executable_path=gecko_path, options=options)\n",
    "\n",
    "# Open a webpage with random delay to start\n",
    "driver.get(\"https://www.amazon.com/Best-Sellers-Computer-Keyboards/zgbs/pc/12879431\")\n",
    "time.sleep(random.uniform(3, 10))\n",
    "\n",
    "# Function for random delays\n",
    "def random_delay(min_seconds, max_seconds):\n",
    "    time.sleep(random.uniform(min_seconds, max_seconds))\n",
    "\n",
    "# Add random mouse hovering to avoid bot detection\n",
    "action = ActionChains(driver)\n",
    "for _ in range(random.randint(3, 7)):  # Perform random number of movements\n",
    "    x_offset = random.randint(0, 300)  # Random x coordinate\n",
    "    y_offset = random.randint(0, 300)  # Random y coordinate\n",
    "    action.move_by_offset(x_offset, y_offset).perform()\n",
    "    random_delay(2, 4)\n",
    "    action.reset_actions()  # Reset actions for the next iteration\n",
    "\n",
    "# Slow scroll to the bottom of the page\n",
    "screen_height = driver.execute_script(\"return window.innerHeight\")\n",
    "scroll_height = driver.execute_script(\"return document.body.scrollHeight\")\n",
    "\n",
    "while driver.execute_script(\"return window.pageYOffset\") < scroll_height - screen_height:\n",
    "    driver.execute_script(\"window.scrollBy(0, arguments[0]);\", screen_height // 2)\n",
    "    random_delay(1, 2)  # Randomized delay\n",
    "\n",
    "# Scroll up to the middle of the page\n",
    "middle_height = scroll_height // 2\n",
    "while driver.execute_script(\"return window.pageYOffset\") > middle_height:\n",
    "    driver.execute_script(\"window.scrollBy(0, -arguments[0]);\", screen_height // 4)\n",
    "    random_delay(1, 2)\n",
    "\n",
    "# Scroll back down to the bottom of the page\n",
    "while driver.execute_script(\"return window.pageYOffset\") < scroll_height - screen_height:\n",
    "    driver.execute_script(\"window.scrollBy(0, arguments[0]);\", screen_height // 2)\n",
    "    random_delay(1, 2)\n",
    "\n",
    "# Get the page source after scrolling\n",
    "html = driver.page_source\n",
    "soup = BeautifulSoup(html, 'html.parser')\n",
    "\n",
    "# Your existing scraping logic with throttling detection\n",
    "scripts = soup.find_all('div', attrs={'id': 'gridItemRoot'})\n",
    "count = 0\n",
    "while count < 3: \n",
    "    for i in scripts:\n",
    "        try:\n",
    "            data = str(i)\n",
    "            start = data[data.find(\"data-a-dynamic-image='\") + 24:]\n",
    "            part = start[:start.find('jpg') + 3]\n",
    "            prod_name = i.find_all('div', attrs={'class': '_cDEzb_p13n-sc-css-line-clamp-3_g3dy1'})\n",
    "            if prod_name:\n",
    "                product_name.append(prod_name[0].text.strip())\n",
    "                url_link.append(part)\n",
    "        except Exception as e:\n",
    "            if \"request was throttled\" in str(e).lower():\n",
    "                print(\"Throttling detected, pausing...\")\n",
    "                random_delay(10, 30)  # Longer delay when throttled\n",
    "            else:\n",
    "                print(f\"Error: {e}\")\n",
    "    driver.find_element_by_class_name('a-last').click()\n",
    "\n",
    "    count += 1\n",
    "    random_delay(6, 12)\n",
    "\n",
    "# Close the browser\n",
    "driver.quit()\n"
   ]
  },
  {
   "cell_type": "code",
   "execution_count": 12,
   "id": "da40bda7",
   "metadata": {
    "scrolled": false
   },
   "outputs": [
    {
     "data": {
      "text/plain": [
       "138"
      ]
     },
     "execution_count": 12,
     "metadata": {},
     "output_type": "execute_result"
    }
   ],
   "source": [
    "len(product_name)"
   ]
  },
  {
   "cell_type": "markdown",
   "id": "cdfee27f",
   "metadata": {},
   "source": [
    "Please run the loop  by manualy adding the urls to the code as there were multiple detections from amazon to avoid scraping "
   ]
  },
  {
   "cell_type": "markdown",
   "id": "12d6e3aa",
   "metadata": {},
   "source": [
    "## Adding data to the newly created CSV and appending to it after urls are run"
   ]
  },
  {
   "cell_type": "code",
   "execution_count": null,
   "id": "198a85f9",
   "metadata": {},
   "outputs": [],
   "source": [
    "import csv\n",
    "\n",
    "# Data you want to append (example format)\n",
    "new_product_name = [\"New Laptop 1\", \"New Laptop 2\"]\n",
    "new_url_link = [\"http://newlink1.com\", \"http://newlink2.com\"]\n",
    "\n",
    "# Open the existing CSV file in append mode\n",
    "with open('laptops.csv', 'a', newline='', encoding='utf-8') as file:\n",
    "    writer = csv.writer(file)\n",
    "\n",
    "    # Append new data rows\n",
    "    for name, link in zip(new_product_name, new_url_link):\n",
    "        writer.writerow(['Laptops', name, link])\n",
    "\n",
    "print(\"New data appended to 'Products.csv'\")\n"
   ]
  }
 ],
 "metadata": {
  "kernelspec": {
   "display_name": "Python 3 (ipykernel)",
   "language": "python",
   "name": "python3"
  },
  "language_info": {
   "codemirror_mode": {
    "name": "ipython",
    "version": 3
   },
   "file_extension": ".py",
   "mimetype": "text/x-python",
   "name": "python",
   "nbconvert_exporter": "python",
   "pygments_lexer": "ipython3",
   "version": "3.11.4"
  }
 },
 "nbformat": 4,
 "nbformat_minor": 5
}
